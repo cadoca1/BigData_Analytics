{
 "cells": [
  {
   "cell_type": "markdown",
   "metadata": {},
   "source": [
    "# Playing with Elasticsearch via REST"
   ]
  },
  {
   "cell_type": "markdown",
   "metadata": {},
   "source": [
    "In those examples you will see how clients interacts with Elasticsearch unsing REST APIs. "
   ]
  },
  {
   "cell_type": "markdown",
   "metadata": {},
   "source": [
    "An index is defined using the Create Index API, which can be accomplished with a simple **PUT** command:"
   ]
  },
  {
   "cell_type": "code",
   "execution_count": 1,
   "metadata": {},
   "outputs": [
    {
     "name": "stdout",
     "output_type": "stream",
     "text": [
      "{'acknowledged': True, 'shards_acknowledged': True, 'index': 'my_test'}\n"
     ]
    }
   ],
   "source": [
    "import requests\n",
    "import json\n",
    "import pprint\n",
    "\n",
    "req = requests.put('http://elasticsearch:9200/my_test')\n",
    "print(req.json())"
   ]
  },
  {
   "cell_type": "markdown",
   "metadata": {},
   "source": [
    "To store a document on elasticsearch you should use **PUT** again, notice that in this example you are specifying a **unique id** of the document."
   ]
  },
  {
   "cell_type": "code",
   "execution_count": 2,
   "metadata": {},
   "outputs": [
    {
     "name": "stdout",
     "output_type": "stream",
     "text": [
      "{'_id': '1',\n",
      " '_index': 'my_test',\n",
      " '_primary_term': 1,\n",
      " '_seq_no': 0,\n",
      " '_shards': {'failed': 0, 'successful': 1, 'total': 2},\n",
      " '_type': 'doc',\n",
      " '_version': 1,\n",
      " 'result': 'created'}\n"
     ]
    }
   ],
   "source": [
    "document = {'username':'Alice',\n",
    "            'comment':'I love to see the stars at night'}\n",
    "\n",
    "requestResponse = requests.put('http://elasticsearch:9200/my_test/doc/1',json=document)\n",
    "pprint.pprint(requestResponse.json())\n"
   ]
  },
  {
   "cell_type": "markdown",
   "metadata": {},
   "source": [
    "You can avoid specifying the document id but using **POST** method. In this case elasticsearch create one"
   ]
  },
  {
   "cell_type": "code",
   "execution_count": 3,
   "metadata": {},
   "outputs": [
    {
     "name": "stdout",
     "output_type": "stream",
     "text": [
      "{'_id': 'BL-91HYBKCK94ew017S6',\n",
      " '_index': 'my_test',\n",
      " '_primary_term': 1,\n",
      " '_seq_no': 1,\n",
      " '_shards': {'failed': 0, 'successful': 1, 'total': 2},\n",
      " '_type': 'doc',\n",
      " '_version': 1,\n",
      " 'result': 'created'}\n"
     ]
    }
   ],
   "source": [
    "document = {'username':'Maria',\n",
    "            'comment':'My favorite painting is Starry Night'}\n",
    "\n",
    "requestResponse = requests.post('http://elasticsearch:9200/my_test/doc/',json=document)\n",
    "pprint.pprint(requestResponse.json())"
   ]
  },
  {
   "cell_type": "markdown",
   "metadata": {},
   "source": [
    "To obtain a document you need to use **GET** method. "
   ]
  },
  {
   "cell_type": "code",
   "execution_count": 6,
   "metadata": {},
   "outputs": [
    {
     "name": "stdout",
     "output_type": "stream",
     "text": [
      "{'_id': '1',\n",
      " '_index': 'my_test',\n",
      " '_primary_term': 1,\n",
      " '_seq_no': 0,\n",
      " '_source': {'comment': 'I love to see the stars at night',\n",
      "             'username': 'Alice'},\n",
      " '_type': 'doc',\n",
      " '_version': 1,\n",
      " 'found': True}\n"
     ]
    }
   ],
   "source": [
    "storedDocument = requests.get('http://elasticsearch:9200/my_test/doc/1')\n",
    "pprint.pprint(storedDocument.json())\n"
   ]
  },
  {
   "cell_type": "markdown",
   "metadata": {},
   "source": [
    "But you can also launch queries over elasticsearch, using **GET** method and with a specific json that contain **query** and **match** clauses. Here you can see how you can obtain all documents from an index. "
   ]
  },
  {
   "cell_type": "code",
   "execution_count": 7,
   "metadata": {},
   "outputs": [
    {
     "name": "stdout",
     "output_type": "stream",
     "text": [
      "{'_shards': {'failed': 0, 'skipped': 0, 'successful': 1, 'total': 1},\n",
      " 'hits': {'hits': [{'_id': '1',\n",
      "                    '_index': 'my_test',\n",
      "                    '_score': 1.0,\n",
      "                    '_source': {'comment': 'I love to see the stars at night',\n",
      "                                'username': 'Alice'},\n",
      "                    '_type': 'doc'},\n",
      "                   {'_id': 'BL-91HYBKCK94ew017S6',\n",
      "                    '_index': 'my_test',\n",
      "                    '_score': 1.0,\n",
      "                    '_source': {'comment': 'My favorite painting is Starry '\n",
      "                                           'Night',\n",
      "                                'username': 'Maria'},\n",
      "                    '_type': 'doc'}],\n",
      "          'max_score': 1.0,\n",
      "          'total': {'relation': 'eq', 'value': 2}},\n",
      " 'timed_out': False,\n",
      " 'took': 3}\n"
     ]
    }
   ],
   "source": [
    "document = { 'query': {\n",
    "                'match_all': {}\n",
    "              }\n",
    "           }\n",
    "\n",
    "storedDocuments = requests.get('http://elasticsearch:9200/my_test/_search',json=document)\n",
    "pprint.pprint(storedDocuments.json())"
   ]
  },
  {
   "cell_type": "markdown",
   "metadata": {},
   "source": [
    "To store a document you can use **Create** or **Index** methods. Create will try to store a document if this id is not already present. "
   ]
  },
  {
   "cell_type": "code",
   "execution_count": 8,
   "metadata": {},
   "outputs": [
    {
     "name": "stdout",
     "output_type": "stream",
     "text": [
      "{'error': {'index': 'my_test',\n",
      "           'index_uuid': 'GnFl1Ys8TgK3B6PiTxDlaA',\n",
      "           'reason': '[1]: version conflict, document already exists (current '\n",
      "                     'version [1])',\n",
      "           'root_cause': [{'index': 'my_test',\n",
      "                           'index_uuid': 'GnFl1Ys8TgK3B6PiTxDlaA',\n",
      "                           'reason': '[1]: version conflict, document already '\n",
      "                                     'exists (current version [1])',\n",
      "                           'shard': '0',\n",
      "                           'type': 'version_conflict_engine_exception'}],\n",
      "           'shard': '0',\n",
      "           'type': 'version_conflict_engine_exception'},\n",
      " 'status': 409}\n"
     ]
    }
   ],
   "source": [
    "document = {'username':'Alice',\n",
    "            'comment':'I love to see the stars and the moon at night'}\n",
    "\n",
    "requestResponse = requests.put('http://elasticsearch:9200/my_test/doc/1/_create',json=document)\n",
    "pprint.pprint(requestResponse.json())"
   ]
  },
  {
   "cell_type": "markdown",
   "metadata": {},
   "source": [
    "However, if you use index it directly, the document will be overriten (without _create sufix). "
   ]
  },
  {
   "cell_type": "code",
   "execution_count": 9,
   "metadata": {},
   "outputs": [
    {
     "name": "stdout",
     "output_type": "stream",
     "text": [
      "{'_id': '1',\n",
      " '_index': 'my_test',\n",
      " '_primary_term': 1,\n",
      " '_seq_no': 2,\n",
      " '_shards': {'failed': 0, 'successful': 1, 'total': 2},\n",
      " '_type': 'doc',\n",
      " '_version': 2,\n",
      " 'result': 'updated'}\n"
     ]
    }
   ],
   "source": [
    "document = {'username':'Alice',\n",
    "            'comment':'I love to see the stars and the moon at night'}\n",
    "\n",
    "requestResponse = requests.put('http://elasticsearch:9200/my_test/doc/1',json=document)\n",
    "pprint.pprint(requestResponse.json())"
   ]
  },
  {
   "cell_type": "code",
   "execution_count": 10,
   "metadata": {},
   "outputs": [
    {
     "name": "stdout",
     "output_type": "stream",
     "text": [
      "{'_id': '1',\n",
      " '_index': 'my_test',\n",
      " '_primary_term': 1,\n",
      " '_seq_no': 2,\n",
      " '_source': {'comment': 'I love to see the stars and the moon at night',\n",
      "             'username': 'Alice'},\n",
      " '_type': 'doc',\n",
      " '_version': 2,\n",
      " 'found': True}\n"
     ]
    }
   ],
   "source": [
    "storedDocument = requests.get('http://elasticsearch:9200/my_test/doc/1',json=document)\n",
    "pprint.pprint(storedDocument.json())"
   ]
  },
  {
   "cell_type": "code",
   "execution_count": 11,
   "metadata": {},
   "outputs": [
    {
     "name": "stdout",
     "output_type": "stream",
     "text": [
      "{'acknowledged': True, 'shards_acknowledged': True, 'index': 'cars'}\n"
     ]
    }
   ],
   "source": [
    "requ = requests.put('http://elasticsearch:9200/cars')\n",
    "print(requ.json())"
   ]
  },
  {
   "cell_type": "code",
   "execution_count": 12,
   "metadata": {},
   "outputs": [
    {
     "name": "stdout",
     "output_type": "stream",
     "text": [
      "{'_id': '1',\n",
      " '_index': 'cars',\n",
      " '_primary_term': 1,\n",
      " '_seq_no': 0,\n",
      " '_shards': {'failed': 0, 'successful': 1, 'total': 2},\n",
      " '_type': 'doc',\n",
      " '_version': 1,\n",
      " 'result': 'created'}\n"
     ]
    }
   ],
   "source": [
    "documento = {'Id':'0000LZD',\n",
    "            'model':'Tesla',\n",
    "            'year':2020,\n",
    "            'color':'Blue'}\n",
    "\n",
    "requestResponse = requests.put('http://elasticsearch:9200/cars/doc/1',json=documento)\n",
    "pprint.pprint(requestResponse.json())"
   ]
  },
  {
   "cell_type": "code",
   "execution_count": 17,
   "metadata": {},
   "outputs": [
    {
     "name": "stdout",
     "output_type": "stream",
     "text": [
      "{'_id': '1',\n",
      " '_index': 'cars',\n",
      " '_primary_term': 1,\n",
      " '_seq_no': 0,\n",
      " '_source': {'Id': '0000LZD', 'color': 'Blue', 'model': 'Tesla', 'year': 2020},\n",
      " '_type': 'doc',\n",
      " '_version': 1,\n",
      " 'found': True}\n"
     ]
    }
   ],
   "source": [
    "storedDocumento = requests.get('http://elasticsearch:9200/cars/doc/1',json=documento)\n",
    "pprint.pprint(storedDocumento.json())"
   ]
  },
  {
   "cell_type": "code",
   "execution_count": null,
   "metadata": {},
   "outputs": [],
   "source": []
  }
 ],
 "metadata": {
  "kernelspec": {
   "display_name": "Python 3",
   "language": "python",
   "name": "python3"
  },
  "language_info": {
   "codemirror_mode": {
    "name": "ipython",
    "version": 3
   },
   "file_extension": ".py",
   "mimetype": "text/x-python",
   "name": "python",
   "nbconvert_exporter": "python",
   "pygments_lexer": "ipython3",
   "version": "3.8.6"
  }
 },
 "nbformat": 4,
 "nbformat_minor": 4
}
