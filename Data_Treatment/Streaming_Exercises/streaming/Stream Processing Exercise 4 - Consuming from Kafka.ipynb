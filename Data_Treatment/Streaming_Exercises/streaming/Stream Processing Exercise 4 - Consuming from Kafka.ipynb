{
 "cells": [
  {
   "cell_type": "markdown",
   "metadata": {},
   "source": [
    "## Stream Processing Exercise 4 - Consuming from Kafka"
   ]
  },
  {
   "cell_type": "markdown",
   "metadata": {},
   "source": [
    "Goals:\n",
    "\n",
    "* Perform different computations on a input stream: read, aggregation, windowed aggregation\n",
    "* Additional references\n",
    "    * [Spark Streaming](https://spark.apache.org/streaming/)\n",
    "    * [Structured Spark Streaming documentation](https://spark.apache.org/docs/latest/structured-streaming-programming-guide.html)\n",
    "    * [Spark and Kafka integration guide](https://spark.apache.org/docs/latest/structured-streaming-kafka-integration.html)\n"
   ]
  },
  {
   "cell_type": "markdown",
   "metadata": {},
   "source": [
    "Let’s inspect content of Pageviews topic, showing it every 5 seconds:"
   ]
  },
  {
   "cell_type": "code",
   "execution_count": 1,
   "metadata": {},
   "outputs": [
    {
     "name": "stdout",
     "output_type": "stream",
     "text": [
      "-------------------------------------------\n",
      "Time: 2021-01-28 18:37:00\n",
      "-------------------------------------------\n",
      "\n",
      "-------------------------------------------\n",
      "Time: 2021-01-28 18:37:05\n",
      "-------------------------------------------\n",
      "\n",
      "-------------------------------------------\n",
      "Time: 2021-01-28 18:37:10\n",
      "-------------------------------------------\n",
      "\n",
      "-------------------------------------------\n",
      "Time: 2021-01-28 18:37:15\n",
      "-------------------------------------------\n",
      "\n",
      "-------------------------------------------\n",
      "Time: 2021-01-28 18:37:20\n",
      "-------------------------------------------\n",
      "('1', '1611859030254,User_2,Page_34')\n",
      "('11', '1611859036879,User_5,Page_64')\n",
      "('21', '1611859037096,User_3,Page_66')\n",
      "('31', '1611859037960,User_9,Page_83')\n",
      "('41', '1611859038050,User_2,Page_58')\n",
      "('51', '1611859038655,User_8,Page_21')\n",
      "('61', '1611859039176,User_8,Page_86')\n",
      "('71', '1611859039483,User_7,Page_56')\n",
      "('81', '1611859039967,User_7,Page_66')\n",
      "('91', '1611859040049,User_9,Page_55')\n",
      "...\n",
      "\n",
      "-------------------------------------------\n",
      "Time: 2021-01-28 18:37:25\n",
      "-------------------------------------------\n",
      "('111', '1611859041085,User_2,Page_48')\n",
      "('121', '1611859041412,User_5,Page_65')\n",
      "('131', '1611859041734,User_2,Page_85')\n",
      "('141', '1611859042066,User_2,Page_48')\n",
      "('151', '1611859042210,User_6,Page_64')\n",
      "('161', '1611859042694,User_2,Page_29')\n",
      "('171', '1611859043031,User_3,Page_68')\n",
      "('181', '1611859043251,User_6,Page_96')\n",
      "('191', '1611859043582,User_4,Page_67')\n",
      "('201', '1611859043894,User_1,Page_55')\n",
      "...\n",
      "\n",
      "-------------------------------------------\n",
      "Time: 2021-01-28 18:37:30\n",
      "-------------------------------------------\n",
      "('261', '1611859045334,User_2,Page_15')\n",
      "('271', '1611859045690,User_6,Page_41')\n",
      "('281', '1611859045958,User_4,Page_83')\n",
      "('291', '1611859046097,User_1,Page_13')\n",
      "('301', '1611859046392,User_6,Page_65')\n",
      "('311', '1611859046493,User_5,Page_94')\n",
      "('321', '1611859046710,User_4,Page_31')\n",
      "('331', '1611859046995,User_7,Page_31')\n",
      "('341', '1611859047536,User_6,Page_51')\n",
      "('351', '1611859047695,User_7,Page_33')\n",
      "...\n",
      "\n"
     ]
    },
    {
     "ename": "KeyboardInterrupt",
     "evalue": "",
     "output_type": "error",
     "traceback": [
      "\u001b[0;31m---------------------------------------------------------------------------\u001b[0m",
      "\u001b[0;31mKeyboardInterrupt\u001b[0m                         Traceback (most recent call last)",
      "\u001b[0;32m<ipython-input-1-819892cef919>\u001b[0m in \u001b[0;36m<module>\u001b[0;34m\u001b[0m\n\u001b[1;32m     23\u001b[0m \u001b[0;34m\u001b[0m\u001b[0m\n\u001b[1;32m     24\u001b[0m \u001b[0mssc\u001b[0m\u001b[0;34m.\u001b[0m\u001b[0mstart\u001b[0m\u001b[0;34m(\u001b[0m\u001b[0;34m)\u001b[0m\u001b[0;34m\u001b[0m\u001b[0;34m\u001b[0m\u001b[0m\n\u001b[0;32m---> 25\u001b[0;31m \u001b[0mssc\u001b[0m\u001b[0;34m.\u001b[0m\u001b[0mawaitTermination\u001b[0m\u001b[0;34m(\u001b[0m\u001b[0;34m)\u001b[0m\u001b[0;34m\u001b[0m\u001b[0;34m\u001b[0m\u001b[0m\n\u001b[0m",
      "\u001b[0;32m/usr/local/spark/python/pyspark/streaming/context.py\u001b[0m in \u001b[0;36mawaitTermination\u001b[0;34m(self, timeout)\u001b[0m\n\u001b[1;32m    190\u001b[0m         \"\"\"\n\u001b[1;32m    191\u001b[0m         \u001b[0;32mif\u001b[0m \u001b[0mtimeout\u001b[0m \u001b[0;32mis\u001b[0m \u001b[0;32mNone\u001b[0m\u001b[0;34m:\u001b[0m\u001b[0;34m\u001b[0m\u001b[0;34m\u001b[0m\u001b[0m\n\u001b[0;32m--> 192\u001b[0;31m             \u001b[0mself\u001b[0m\u001b[0;34m.\u001b[0m\u001b[0m_jssc\u001b[0m\u001b[0;34m.\u001b[0m\u001b[0mawaitTermination\u001b[0m\u001b[0;34m(\u001b[0m\u001b[0;34m)\u001b[0m\u001b[0;34m\u001b[0m\u001b[0;34m\u001b[0m\u001b[0m\n\u001b[0m\u001b[1;32m    193\u001b[0m         \u001b[0;32melse\u001b[0m\u001b[0;34m:\u001b[0m\u001b[0;34m\u001b[0m\u001b[0;34m\u001b[0m\u001b[0m\n\u001b[1;32m    194\u001b[0m             \u001b[0mself\u001b[0m\u001b[0;34m.\u001b[0m\u001b[0m_jssc\u001b[0m\u001b[0;34m.\u001b[0m\u001b[0mawaitTerminationOrTimeout\u001b[0m\u001b[0;34m(\u001b[0m\u001b[0mint\u001b[0m\u001b[0;34m(\u001b[0m\u001b[0mtimeout\u001b[0m \u001b[0;34m*\u001b[0m \u001b[0;36m1000\u001b[0m\u001b[0;34m)\u001b[0m\u001b[0;34m)\u001b[0m\u001b[0;34m\u001b[0m\u001b[0;34m\u001b[0m\u001b[0m\n",
      "\u001b[0;32m/usr/local/spark/python/lib/py4j-0.10.7-src.zip/py4j/java_gateway.py\u001b[0m in \u001b[0;36m__call__\u001b[0;34m(self, *args)\u001b[0m\n\u001b[1;32m   1253\u001b[0m             \u001b[0mproto\u001b[0m\u001b[0;34m.\u001b[0m\u001b[0mEND_COMMAND_PART\u001b[0m\u001b[0;34m\u001b[0m\u001b[0;34m\u001b[0m\u001b[0m\n\u001b[1;32m   1254\u001b[0m \u001b[0;34m\u001b[0m\u001b[0m\n\u001b[0;32m-> 1255\u001b[0;31m         \u001b[0manswer\u001b[0m \u001b[0;34m=\u001b[0m \u001b[0mself\u001b[0m\u001b[0;34m.\u001b[0m\u001b[0mgateway_client\u001b[0m\u001b[0;34m.\u001b[0m\u001b[0msend_command\u001b[0m\u001b[0;34m(\u001b[0m\u001b[0mcommand\u001b[0m\u001b[0;34m)\u001b[0m\u001b[0;34m\u001b[0m\u001b[0;34m\u001b[0m\u001b[0m\n\u001b[0m\u001b[1;32m   1256\u001b[0m         return_value = get_return_value(\n\u001b[1;32m   1257\u001b[0m             answer, self.gateway_client, self.target_id, self.name)\n",
      "\u001b[0;32m/usr/local/spark/python/lib/py4j-0.10.7-src.zip/py4j/java_gateway.py\u001b[0m in \u001b[0;36msend_command\u001b[0;34m(self, command, retry, binary)\u001b[0m\n\u001b[1;32m    983\u001b[0m         \u001b[0mconnection\u001b[0m \u001b[0;34m=\u001b[0m \u001b[0mself\u001b[0m\u001b[0;34m.\u001b[0m\u001b[0m_get_connection\u001b[0m\u001b[0;34m(\u001b[0m\u001b[0;34m)\u001b[0m\u001b[0;34m\u001b[0m\u001b[0;34m\u001b[0m\u001b[0m\n\u001b[1;32m    984\u001b[0m         \u001b[0;32mtry\u001b[0m\u001b[0;34m:\u001b[0m\u001b[0;34m\u001b[0m\u001b[0;34m\u001b[0m\u001b[0m\n\u001b[0;32m--> 985\u001b[0;31m             \u001b[0mresponse\u001b[0m \u001b[0;34m=\u001b[0m \u001b[0mconnection\u001b[0m\u001b[0;34m.\u001b[0m\u001b[0msend_command\u001b[0m\u001b[0;34m(\u001b[0m\u001b[0mcommand\u001b[0m\u001b[0;34m)\u001b[0m\u001b[0;34m\u001b[0m\u001b[0;34m\u001b[0m\u001b[0m\n\u001b[0m\u001b[1;32m    986\u001b[0m             \u001b[0;32mif\u001b[0m \u001b[0mbinary\u001b[0m\u001b[0;34m:\u001b[0m\u001b[0;34m\u001b[0m\u001b[0;34m\u001b[0m\u001b[0m\n\u001b[1;32m    987\u001b[0m                 \u001b[0;32mreturn\u001b[0m \u001b[0mresponse\u001b[0m\u001b[0;34m,\u001b[0m \u001b[0mself\u001b[0m\u001b[0;34m.\u001b[0m\u001b[0m_create_connection_guard\u001b[0m\u001b[0;34m(\u001b[0m\u001b[0mconnection\u001b[0m\u001b[0;34m)\u001b[0m\u001b[0;34m\u001b[0m\u001b[0;34m\u001b[0m\u001b[0m\n",
      "\u001b[0;32m/usr/local/spark/python/lib/py4j-0.10.7-src.zip/py4j/java_gateway.py\u001b[0m in \u001b[0;36msend_command\u001b[0;34m(self, command)\u001b[0m\n\u001b[1;32m   1150\u001b[0m \u001b[0;34m\u001b[0m\u001b[0m\n\u001b[1;32m   1151\u001b[0m         \u001b[0;32mtry\u001b[0m\u001b[0;34m:\u001b[0m\u001b[0;34m\u001b[0m\u001b[0;34m\u001b[0m\u001b[0m\n\u001b[0;32m-> 1152\u001b[0;31m             \u001b[0manswer\u001b[0m \u001b[0;34m=\u001b[0m \u001b[0msmart_decode\u001b[0m\u001b[0;34m(\u001b[0m\u001b[0mself\u001b[0m\u001b[0;34m.\u001b[0m\u001b[0mstream\u001b[0m\u001b[0;34m.\u001b[0m\u001b[0mreadline\u001b[0m\u001b[0;34m(\u001b[0m\u001b[0;34m)\u001b[0m\u001b[0;34m[\u001b[0m\u001b[0;34m:\u001b[0m\u001b[0;34m-\u001b[0m\u001b[0;36m1\u001b[0m\u001b[0;34m]\u001b[0m\u001b[0;34m)\u001b[0m\u001b[0;34m\u001b[0m\u001b[0;34m\u001b[0m\u001b[0m\n\u001b[0m\u001b[1;32m   1153\u001b[0m             \u001b[0mlogger\u001b[0m\u001b[0;34m.\u001b[0m\u001b[0mdebug\u001b[0m\u001b[0;34m(\u001b[0m\u001b[0;34m\"Answer received: {0}\"\u001b[0m\u001b[0;34m.\u001b[0m\u001b[0mformat\u001b[0m\u001b[0;34m(\u001b[0m\u001b[0manswer\u001b[0m\u001b[0;34m)\u001b[0m\u001b[0;34m)\u001b[0m\u001b[0;34m\u001b[0m\u001b[0;34m\u001b[0m\u001b[0m\n\u001b[1;32m   1154\u001b[0m             \u001b[0;32mif\u001b[0m \u001b[0manswer\u001b[0m\u001b[0;34m.\u001b[0m\u001b[0mstartswith\u001b[0m\u001b[0;34m(\u001b[0m\u001b[0mproto\u001b[0m\u001b[0;34m.\u001b[0m\u001b[0mRETURN_MESSAGE\u001b[0m\u001b[0;34m)\u001b[0m\u001b[0;34m:\u001b[0m\u001b[0;34m\u001b[0m\u001b[0;34m\u001b[0m\u001b[0m\n",
      "\u001b[0;32m/opt/conda/lib/python3.7/socket.py\u001b[0m in \u001b[0;36mreadinto\u001b[0;34m(self, b)\u001b[0m\n\u001b[1;32m    587\u001b[0m         \u001b[0;32mwhile\u001b[0m \u001b[0;32mTrue\u001b[0m\u001b[0;34m:\u001b[0m\u001b[0;34m\u001b[0m\u001b[0;34m\u001b[0m\u001b[0m\n\u001b[1;32m    588\u001b[0m             \u001b[0;32mtry\u001b[0m\u001b[0;34m:\u001b[0m\u001b[0;34m\u001b[0m\u001b[0;34m\u001b[0m\u001b[0m\n\u001b[0;32m--> 589\u001b[0;31m                 \u001b[0;32mreturn\u001b[0m \u001b[0mself\u001b[0m\u001b[0;34m.\u001b[0m\u001b[0m_sock\u001b[0m\u001b[0;34m.\u001b[0m\u001b[0mrecv_into\u001b[0m\u001b[0;34m(\u001b[0m\u001b[0mb\u001b[0m\u001b[0;34m)\u001b[0m\u001b[0;34m\u001b[0m\u001b[0;34m\u001b[0m\u001b[0m\n\u001b[0m\u001b[1;32m    590\u001b[0m             \u001b[0;32mexcept\u001b[0m \u001b[0mtimeout\u001b[0m\u001b[0;34m:\u001b[0m\u001b[0;34m\u001b[0m\u001b[0;34m\u001b[0m\u001b[0m\n\u001b[1;32m    591\u001b[0m                 \u001b[0mself\u001b[0m\u001b[0;34m.\u001b[0m\u001b[0m_timeout_occurred\u001b[0m \u001b[0;34m=\u001b[0m \u001b[0;32mTrue\u001b[0m\u001b[0;34m\u001b[0m\u001b[0;34m\u001b[0m\u001b[0m\n",
      "\u001b[0;32m/usr/local/spark/python/pyspark/context.py\u001b[0m in \u001b[0;36msignal_handler\u001b[0;34m(signal, frame)\u001b[0m\n\u001b[1;32m    268\u001b[0m         \u001b[0;32mdef\u001b[0m \u001b[0msignal_handler\u001b[0m\u001b[0;34m(\u001b[0m\u001b[0msignal\u001b[0m\u001b[0;34m,\u001b[0m \u001b[0mframe\u001b[0m\u001b[0;34m)\u001b[0m\u001b[0;34m:\u001b[0m\u001b[0;34m\u001b[0m\u001b[0;34m\u001b[0m\u001b[0m\n\u001b[1;32m    269\u001b[0m             \u001b[0mself\u001b[0m\u001b[0;34m.\u001b[0m\u001b[0mcancelAllJobs\u001b[0m\u001b[0;34m(\u001b[0m\u001b[0;34m)\u001b[0m\u001b[0;34m\u001b[0m\u001b[0;34m\u001b[0m\u001b[0m\n\u001b[0;32m--> 270\u001b[0;31m             \u001b[0;32mraise\u001b[0m \u001b[0mKeyboardInterrupt\u001b[0m\u001b[0;34m(\u001b[0m\u001b[0;34m)\u001b[0m\u001b[0;34m\u001b[0m\u001b[0;34m\u001b[0m\u001b[0m\n\u001b[0m\u001b[1;32m    271\u001b[0m \u001b[0;34m\u001b[0m\u001b[0m\n\u001b[1;32m    272\u001b[0m         \u001b[0;31m# see http://stackoverflow.com/questions/23206787/\u001b[0m\u001b[0;34m\u001b[0m\u001b[0;34m\u001b[0m\u001b[0;34m\u001b[0m\u001b[0m\n",
      "\u001b[0;31mKeyboardInterrupt\u001b[0m: "
     ]
    }
   ],
   "source": [
    "import sys\n",
    "import os \n",
    "from pyspark import SparkContext\n",
    "from pyspark.streaming import StreamingContext\n",
    "\n",
    "from pyspark.streaming.kafka import KafkaUtils\n",
    "\n",
    "\n",
    "sc = SparkContext(appName=\"PageViewsConsumer\")\n",
    "\n",
    "ssc = StreamingContext(sc, 5)\n",
    "\n",
    "\n",
    "topics = ['pageviews']\n",
    "\n",
    "kafkaParams = {'bootstrap.servers': 'broker:29092', \n",
    "               'group.id' : 'test'}\n",
    "\n",
    "stream = KafkaUtils.createDirectStream(ssc, topics, kafkaParams)\n",
    "\n",
    "stream.map(lambda record : (record[0], record[1])).pprint()\n",
    "\n",
    "\n",
    "ssc.start()\n",
    "ssc.awaitTermination()"
   ]
  },
  {
   "cell_type": "markdown",
   "metadata": {},
   "source": [
    "Now, inspect also the content of Users topic"
   ]
  },
  {
   "cell_type": "code",
   "execution_count": null,
   "metadata": {},
   "outputs": [
    {
     "name": "stdout",
     "output_type": "stream",
     "text": [
      "-------------------------------------------\n",
      "Time: 2021-01-28 18:40:50\n",
      "-------------------------------------------\n",
      "('User_6', '1519013368530,User_6,Region_2,OTHER')\n",
      "('User_2', '1516444378607,User_2,Region_7,OTHER')\n",
      "('User_5', '1512373170274,User_5,Region_6,FEMALE')\n",
      "('User_4', '1514640010990,User_4,Region_4,FEMALE')\n",
      "('User_6', '1499371853710,User_6,Region_1,FEMALE')\n",
      "('User_5', '1513578775862,User_5,Region_5,OTHER')\n",
      "('User_6', '1494641976481,User_6,Region_8,FEMALE')\n",
      "('User_8', '1503677985092,User_8,Region_7,FEMALE')\n",
      "('User_8', '1504700142647,User_8,Region_2,OTHER')\n",
      "('User_8', '1515510948549,User_8,Region_1,MALE')\n",
      "...\n",
      "\n",
      "-------------------------------------------\n",
      "Time: 2021-01-28 18:40:55\n",
      "-------------------------------------------\n",
      "('User_8', '1502347843740,User_8,Region_5,OTHER')\n",
      "('User_7', '1514332347842,User_7,Region_1,OTHER')\n",
      "('User_4', '1500111995736,User_4,Region_5,MALE')\n",
      "('User_3', '1511533300960,User_3,Region_9,OTHER')\n",
      "('User_8', '1505762955472,User_8,Region_6,MALE')\n",
      "('User_5', '1492312690502,User_5,Region_2,OTHER')\n",
      "('User_3', '1497246841883,User_3,Region_1,MALE')\n",
      "('User_3', '1515056809026,User_3,Region_3,FEMALE')\n",
      "('User_7', '1516305545247,User_7,Region_6,OTHER')\n",
      "('User_8', '1506680206104,User_8,Region_5,FEMALE')\n",
      "...\n",
      "\n",
      "-------------------------------------------\n",
      "Time: 2021-01-28 18:41:00\n",
      "-------------------------------------------\n",
      "('User_9', '1498651518302,User_9,Region_7,OTHER')\n",
      "('User_3', '1510509134580,User_3,Region_9,MALE')\n",
      "('User_4', '1497505892325,User_4,Region_9,OTHER')\n",
      "('User_4', '1506789052329,User_4,Region_2,MALE')\n",
      "('User_2', '1500665642904,User_2,Region_4,OTHER')\n",
      "('User_4', '1495952606331,User_4,Region_8,MALE')\n",
      "('User_3', '1507541601736,User_3,Region_7,OTHER')\n",
      "('User_4', '1509787992997,User_4,Region_8,MALE')\n",
      "('User_5', '1490980164461,User_5,Region_9,FEMALE')\n",
      "('User_1', '1489957570562,User_1,Region_7,OTHER')\n",
      "...\n",
      "\n",
      "-------------------------------------------\n",
      "Time: 2021-01-28 18:41:05\n",
      "-------------------------------------------\n",
      "('User_3', '1505654491286,User_3,Region_1,FEMALE')\n",
      "('User_8', '1515799645100,User_8,Region_7,OTHER')\n",
      "('User_2', '1494347065893,User_2,Region_4,OTHER')\n",
      "('User_5', '1496046440388,User_5,Region_8,FEMALE')\n",
      "('User_7', '1508909940615,User_7,Region_6,MALE')\n",
      "('User_1', '1517863308128,User_1,Region_8,MALE')\n",
      "('User_5', '1516356908866,User_5,Region_8,OTHER')\n",
      "('User_2', '1518581489536,User_2,Region_1,OTHER')\n",
      "('User_8', '1505494142145,User_8,Region_9,MALE')\n",
      "('User_5', '1502947633768,User_5,Region_4,MALE')\n",
      "...\n",
      "\n",
      "-------------------------------------------\n",
      "Time: 2021-01-28 18:41:10\n",
      "-------------------------------------------\n",
      "('User_1', '1511104132192,User_1,Region_5,FEMALE')\n",
      "('User_1', '1487903955276,User_1,Region_3,FEMALE')\n",
      "('User_7', '1504968745528,User_7,Region_2,MALE')\n",
      "('User_2', '1490718543157,User_2,Region_8,FEMALE')\n",
      "('User_1', '1508679945651,User_1,Region_2,MALE')\n",
      "('User_4', '1491823359073,User_4,Region_8,OTHER')\n",
      "('User_6', '1500196925512,User_6,Region_1,MALE')\n",
      "('User_2', '1517357365209,User_2,Region_7,MALE')\n",
      "('User_8', '1495752981533,User_8,Region_2,MALE')\n",
      "('User_3', '1497722036727,User_3,Region_4,FEMALE')\n",
      "...\n",
      "\n",
      "-------------------------------------------\n",
      "Time: 2021-01-28 18:41:15\n",
      "-------------------------------------------\n",
      "('User_4', '1493778965700,User_4,Region_5,MALE')\n",
      "('User_2', '1489606866049,User_2,Region_7,FEMALE')\n",
      "('User_1', '1517652416979,User_1,Region_3,OTHER')\n",
      "('User_4', '1488735727072,User_4,Region_9,MALE')\n",
      "('User_6', '1507531941572,User_6,Region_4,FEMALE')\n",
      "('User_7', '1500146744277,User_7,Region_4,MALE')\n",
      "('User_2', '1518229731092,User_2,Region_8,OTHER')\n",
      "('User_3', '1516645381364,User_3,Region_5,FEMALE')\n",
      "('User_7', '1500859287372,User_7,Region_6,OTHER')\n",
      "('User_1', '1512897862304,User_1,Region_3,OTHER')\n",
      "...\n",
      "\n",
      "-------------------------------------------\n",
      "Time: 2021-01-28 18:41:20\n",
      "-------------------------------------------\n",
      "('User_9', '1509164206640,User_9,Region_9,MALE')\n",
      "('User_8', '1487824043909,User_8,Region_3,MALE')\n",
      "('User_5', '1516198680190,User_5,Region_6,MALE')\n",
      "('User_2', '1489121216724,User_2,Region_2,MALE')\n",
      "('User_2', '1508157021760,User_2,Region_1,OTHER')\n",
      "('User_4', '1492900337089,User_4,Region_5,MALE')\n",
      "('User_7', '1500736118223,User_7,Region_3,MALE')\n",
      "('User_3', '1494006174794,User_3,Region_8,FEMALE')\n",
      "('User_9', '1493953631709,User_9,Region_8,FEMALE')\n",
      "('User_6', '1502398698276,User_6,Region_6,MALE')\n",
      "...\n",
      "\n",
      "-------------------------------------------\n",
      "Time: 2021-01-28 18:41:25\n",
      "-------------------------------------------\n",
      "('User_9', '1495012952315,User_9,Region_6,OTHER')\n",
      "('User_3', '1513512703031,User_3,Region_5,MALE')\n",
      "('User_9', '1490015493852,User_9,Region_3,OTHER')\n",
      "('User_7', '1494764288516,User_7,Region_9,MALE')\n",
      "('User_5', '1514629593924,User_5,Region_9,FEMALE')\n",
      "('User_4', '1515510491167,User_4,Region_2,OTHER')\n",
      "('User_9', '1510702368087,User_9,Region_6,MALE')\n",
      "('User_3', '1517232072100,User_3,Region_6,FEMALE')\n",
      "('User_2', '1513535667037,User_2,Region_7,MALE')\n",
      "('User_2', '1492532807519,User_2,Region_5,MALE')\n",
      "...\n",
      "\n",
      "-------------------------------------------\n",
      "Time: 2021-01-28 18:41:30\n",
      "-------------------------------------------\n",
      "('User_9', '1505193542768,User_9,Region_7,OTHER')\n",
      "('User_5', '1511834764341,User_5,Region_2,FEMALE')\n",
      "('User_7', '1489952067835,User_7,Region_8,MALE')\n",
      "('User_6', '1515253280231,User_6,Region_7,OTHER')\n",
      "('User_8', '1493964215508,User_8,Region_2,MALE')\n",
      "('User_9', '1513396711748,User_9,Region_7,MALE')\n",
      "('User_7', '1489249707974,User_7,Region_6,OTHER')\n",
      "('User_7', '1502310828560,User_7,Region_5,OTHER')\n",
      "('User_5', '1511422459082,User_5,Region_4,OTHER')\n",
      "('User_1', '1516238037951,User_1,Region_8,FEMALE')\n",
      "...\n",
      "\n"
     ]
    }
   ],
   "source": [
    "import sys\n",
    "import os \n",
    "from pyspark import SparkContext\n",
    "from pyspark.streaming import StreamingContext\n",
    "\n",
    "from pyspark.streaming.kafka import KafkaUtils\n",
    "\n",
    "\n",
    "sc = SparkContext(appName=\"PageViewsConsumer\")\n",
    "\n",
    "ssc = StreamingContext(sc, 5)\n",
    "\n",
    "\n",
    "topicUsers = ['users']\n",
    "\n",
    "kafkaParams = {'bootstrap.servers': 'broker:29092', \n",
    "               'group.id' : 'test'}\n",
    "\n",
    "stream = KafkaUtils.createDirectStream(ssc, topicUsers, kafkaParams)\n",
    "\n",
    "stream.map(lambda record : (record[0], record[1])).pprint()\n",
    "\n",
    "\n",
    "ssc.start()\n",
    "ssc.awaitTermination()"
   ]
  },
  {
   "cell_type": "markdown",
   "metadata": {},
   "source": [
    "Here we will consume streaming data from pageviews kafka topic to count numer of visits per page.\n",
    "First we are going to define input Stream"
   ]
  },
  {
   "cell_type": "code",
   "execution_count": 1,
   "metadata": {},
   "outputs": [
    {
     "name": "stdout",
     "output_type": "stream",
     "text": [
      "root\n",
      " |-- viewtime: timestamp (nullable = true)\n",
      " |-- userid: string (nullable = true)\n",
      " |-- pageid: string (nullable = true)\n",
      " |-- timestamp: timestamp (nullable = true)\n",
      "\n"
     ]
    }
   ],
   "source": [
    "from pyspark import sql\n",
    "from pyspark.sql import SparkSession\n",
    "from pyspark.sql.functions import *\n",
    "from pyspark.sql.types import *\n",
    "\n",
    "spark = SparkSession \\\n",
    "    .builder \\\n",
    "    .appName(\"PageViewsConsumer\") \\\n",
    "    .getOrCreate()\n",
    "\n",
    "\n",
    "dfPageViewsStream = (\n",
    "    spark\n",
    "    .readStream\n",
    "    .format(\"kafka\")\n",
    "    .option(\"kafka.bootstrap.servers\", \"broker:29092\")\n",
    "    .option(\"subscribe\", \"pageviews\")\n",
    "    .load()\n",
    ")\n",
    "\n",
    "dfPageViews = (\n",
    "    dfPageViewsStream\n",
    "    .selectExpr(\"CAST(key AS STRING)\", \"CAST(value AS STRING)\", \"timestamp\")\n",
    "    .withColumn(\"_tmp\", split(col(\"value\"), \"\\\\,\"))\n",
    "    .select((col(\"_tmp\").getItem(0).cast(\"long\") / lit(1000)).cast(\"timestamp\").alias(\"viewtime\"),\n",
    "            col(\"_tmp\").getItem(1).alias(\"userid\"),\n",
    "            col(\"_tmp\").getItem(2).alias(\"pageid\"),\n",
    "            col(\"timestamp\"))\n",
    ")\n",
    "\n",
    "dfPageViews.printSchema()\n"
   ]
  },
  {
   "cell_type": "markdown",
   "metadata": {},
   "source": [
    "Now let's create a table to store query output on memory\n",
    "\n"
   ]
  },
  {
   "cell_type": "code",
   "execution_count": 2,
   "metadata": {},
   "outputs": [
    {
     "data": {
      "text/plain": [
       "<pyspark.sql.streaming.StreamingQuery at 0x7f939409bb50>"
      ]
     },
     "execution_count": 2,
     "metadata": {},
     "output_type": "execute_result"
    }
   ],
   "source": [
    "dfPageViews.writeStream.format(\"memory\").outputMode(\"append\").queryName(\"PageViews\").start()\n"
   ]
  },
  {
   "cell_type": "markdown",
   "metadata": {},
   "source": [
    "Here you can see table structure"
   ]
  },
  {
   "cell_type": "code",
   "execution_count": 3,
   "metadata": {},
   "outputs": [
    {
     "name": "stdout",
     "output_type": "stream",
     "text": [
      "+---------+---------+-------+\n",
      "| col_name|data_type|comment|\n",
      "+---------+---------+-------+\n",
      "| viewtime|timestamp|   null|\n",
      "|   userid|   string|   null|\n",
      "|   pageid|   string|   null|\n",
      "|timestamp|timestamp|   null|\n",
      "+---------+---------+-------+\n",
      "\n"
     ]
    }
   ],
   "source": [
    "spark.sql(\"describe pageviews\").show()"
   ]
  },
  {
   "cell_type": "markdown",
   "metadata": {},
   "source": [
    "Now, select those events happening in odd minutes."
   ]
  },
  {
   "cell_type": "code",
   "execution_count": 4,
   "metadata": {},
   "outputs": [
    {
     "name": "stdout",
     "output_type": "stream",
     "text": [
      "+--------------------+------+-------+--------------------+\n",
      "|            viewtime|userid| pageid|           timestamp|\n",
      "+--------------------+------+-------+--------------------+\n",
      "|2021-01-28 18:47:...|User_4|Page_37|2021-01-28 18:47:...|\n",
      "|2021-01-28 18:47:...|User_5|Page_13|2021-01-28 18:47:...|\n",
      "|2021-01-28 18:47:...|User_3|Page_43|2021-01-28 18:47:...|\n",
      "|2021-01-28 18:47:...|User_9|Page_35|2021-01-28 18:47:...|\n",
      "|2021-01-28 18:47:...|User_1|Page_28|2021-01-28 18:47:...|\n",
      "|2021-01-28 18:47:...|User_9|Page_29|2021-01-28 18:47:...|\n",
      "|2021-01-28 18:47:...|User_3|Page_50|2021-01-28 18:47:...|\n",
      "|2021-01-28 18:47:...|User_6|Page_14|2021-01-28 18:47:...|\n",
      "|2021-01-28 18:47:...|User_1|Page_32|2021-01-28 18:47:...|\n",
      "|2021-01-28 18:47:...|User_2|Page_16|2021-01-28 18:47:...|\n",
      "|2021-01-28 18:47:...|User_1|Page_44|2021-01-28 18:47:...|\n",
      "|2021-01-28 18:47:...|User_1|Page_67|2021-01-28 18:47:...|\n",
      "|2021-01-28 18:47:...|User_3|Page_22|2021-01-28 18:47:...|\n",
      "|2021-01-28 18:47:...|User_3|Page_29|2021-01-28 18:47:...|\n",
      "|2021-01-28 18:47:...|User_3|Page_29|2021-01-28 18:47:...|\n",
      "|2021-01-28 18:47:...|User_8|Page_26|2021-01-28 18:47:...|\n",
      "|2021-01-28 18:47:...|User_4|Page_33|2021-01-28 18:47:...|\n",
      "|2021-01-28 18:47:...|User_2|Page_24|2021-01-28 18:47:...|\n",
      "|2021-01-28 18:47:...|User_4|Page_32|2021-01-28 18:47:...|\n",
      "|2021-01-28 18:47:...|User_8|Page_63|2021-01-28 18:47:...|\n",
      "+--------------------+------+-------+--------------------+\n",
      "only showing top 20 rows\n",
      "\n"
     ]
    }
   ],
   "source": [
    "spark.sql('select * from PageViews where (minute(timestamp)%2) != 0').show()"
   ]
  },
  {
   "cell_type": "markdown",
   "metadata": {},
   "source": [
    "Try with an order over userid."
   ]
  },
  {
   "cell_type": "code",
   "execution_count": 5,
   "metadata": {},
   "outputs": [
    {
     "name": "stdout",
     "output_type": "stream",
     "text": [
      "+--------------------+------+-------+--------------------+\n",
      "|            viewtime|userid| pageid|           timestamp|\n",
      "+--------------------+------+-------+--------------------+\n",
      "|2021-01-28 18:49:...|User_1|Page_40|2021-01-28 18:49:...|\n",
      "|2021-01-28 18:49:...|User_1|Page_75|2021-01-28 18:49:...|\n",
      "|2021-01-28 18:49:...|User_1|Page_43|2021-01-28 18:49:...|\n",
      "|2021-01-28 18:49:...|User_1|Page_90|2021-01-28 18:49:...|\n",
      "|2021-01-28 18:49:...|User_1|Page_49|2021-01-28 18:49:...|\n",
      "|2021-01-28 18:49:...|User_1|Page_30|2021-01-28 18:49:...|\n",
      "|2021-01-28 18:49:...|User_1|Page_78|2021-01-28 18:49:...|\n",
      "|2021-01-28 18:49:...|User_1|Page_74|2021-01-28 18:49:...|\n",
      "|2021-01-28 18:49:...|User_1|Page_87|2021-01-28 18:49:...|\n",
      "|2021-01-28 18:49:...|User_1|Page_13|2021-01-28 18:49:...|\n",
      "|2021-01-28 18:49:...|User_1|Page_97|2021-01-28 18:49:...|\n",
      "|2021-01-28 18:49:...|User_1|Page_29|2021-01-28 18:49:...|\n",
      "|2021-01-28 18:49:...|User_1|Page_44|2021-01-28 18:49:...|\n",
      "|2021-01-28 18:49:...|User_1|Page_94|2021-01-28 18:49:...|\n",
      "|2021-01-28 18:49:...|User_1|Page_23|2021-01-28 18:49:...|\n",
      "|2021-01-28 18:49:...|User_1|Page_22|2021-01-28 18:49:...|\n",
      "|2021-01-28 18:49:...|User_1|Page_11|2021-01-28 18:49:...|\n",
      "|2021-01-28 18:49:...|User_1|Page_90|2021-01-28 18:49:...|\n",
      "|2021-01-28 18:49:...|User_1|Page_73|2021-01-28 18:49:...|\n",
      "|2021-01-28 18:49:...|User_1|Page_56|2021-01-28 18:49:...|\n",
      "+--------------------+------+-------+--------------------+\n",
      "only showing top 20 rows\n",
      "\n"
     ]
    }
   ],
   "source": [
    "spark.sql('select * from PageViews where (minute(timestamp)%2) != 0 order by userid').show()"
   ]
  },
  {
   "cell_type": "markdown",
   "metadata": {},
   "source": [
    "\n",
    "Now count number of visits of each page:\n",
    "\n",
    "* from the source stream: dfPageViews\n",
    "* by page means group by pageid \n",
    "* count as the aggregation operation\n",
    "* store the output stream as an in-memory table: CountsByPage.\n",
    "\n",
    "Describe its content and show part of the content"
   ]
  },
  {
   "cell_type": "code",
   "execution_count": 6,
   "metadata": {},
   "outputs": [
    {
     "name": "stdout",
     "output_type": "stream",
     "text": [
      "root\n",
      " |-- pageid: string (nullable = true)\n",
      " |-- count: long (nullable = false)\n",
      "\n"
     ]
    }
   ],
   "source": [
    "dfCountsByPage = dfPageViews.groupBy('pageid').count()\n",
    "\n",
    "dfCountsByPage.printSchema()"
   ]
  },
  {
   "cell_type": "code",
   "execution_count": 10,
   "metadata": {},
   "outputs": [
    {
     "data": {
      "text/plain": [
       "<pyspark.sql.streaming.StreamingQuery at 0x7f93940941d0>"
      ]
     },
     "execution_count": 10,
     "metadata": {},
     "output_type": "execute_result"
    }
   ],
   "source": [
    "dfCountsByPage \\\n",
    ".writeStream \\\n",
    ".format(\"memory\") \\\n",
    ".outputMode(\"complete\") \\\n",
    ".queryName(\"CountsByPage\") \\\n",
    ".start()"
   ]
  },
  {
   "cell_type": "code",
   "execution_count": 11,
   "metadata": {},
   "outputs": [
    {
     "name": "stdout",
     "output_type": "stream",
     "text": [
      "+--------+---------+-------+\n",
      "|col_name|data_type|comment|\n",
      "+--------+---------+-------+\n",
      "|  pageid|   string|   null|\n",
      "|   count|   bigint|   null|\n",
      "+--------+---------+-------+\n",
      "\n"
     ]
    }
   ],
   "source": [
    "spark.sql('describe CountsByPage').show()"
   ]
  },
  {
   "cell_type": "code",
   "execution_count": 12,
   "metadata": {},
   "outputs": [
    {
     "name": "stdout",
     "output_type": "stream",
     "text": [
      "+------+-----+\n",
      "|pageid|count|\n",
      "+------+-----+\n",
      "+------+-----+\n",
      "\n"
     ]
    }
   ],
   "source": [
    "spark.sql('select * from CountsByPage').show()"
   ]
  },
  {
   "cell_type": "markdown",
   "metadata": {},
   "source": [
    "Now we want to get number of visits every 5 minutes over last 10 minutes:\n",
    "\n",
    "* 10 minutes is the window duration\n",
    "* 5 minutes is the slide duration\n",
    "\n",
    "Additional references for windowing in Spark can be found [here](https://spark.apache.org/docs/latest/structured-streaming-programming-guide.html#window-operations-on-event-time).\n"
   ]
  },
  {
   "cell_type": "code",
   "execution_count": 7,
   "metadata": {},
   "outputs": [
    {
     "name": "stdout",
     "output_type": "stream",
     "text": [
      "root\n",
      " |-- window: struct (nullable = true)\n",
      " |    |-- start: timestamp (nullable = true)\n",
      " |    |-- end: timestamp (nullable = true)\n",
      " |-- pageid: string (nullable = true)\n",
      " |-- count: long (nullable = false)\n",
      "\n"
     ]
    }
   ],
   "source": [
    "dfWindow = dfPageViews.groupBy(window('timestamp','10 minutes','5 minutes'), 'pageid').count()\n",
    "\n",
    "dfWindow.printSchema()"
   ]
  },
  {
   "cell_type": "code",
   "execution_count": 8,
   "metadata": {},
   "outputs": [
    {
     "data": {
      "text/plain": [
       "<pyspark.sql.streaming.StreamingQuery at 0x7f936fcda890>"
      ]
     },
     "execution_count": 8,
     "metadata": {},
     "output_type": "execute_result"
    }
   ],
   "source": [
    "dfWindow.writeStream.format(\"memory\").outputMode(\"complete\").queryName(\"pageWindow\").start()"
   ]
  },
  {
   "cell_type": "code",
   "execution_count": 9,
   "metadata": {},
   "outputs": [
    {
     "name": "stdout",
     "output_type": "stream",
     "text": [
      "+--------------------+-------+-----+\n",
      "|              window| pageid|count|\n",
      "+--------------------+-------+-----+\n",
      "|[2021-01-28 18:50...|Page_18|    1|\n",
      "|[2021-01-28 18:55...|Page_18|    1|\n",
      "+--------------------+-------+-----+\n",
      "\n"
     ]
    }
   ],
   "source": [
    "spark.sql('select * from pageWindow').show()"
   ]
  },
  {
   "cell_type": "code",
   "execution_count": null,
   "metadata": {},
   "outputs": [],
   "source": []
  }
 ],
 "metadata": {
  "kernelspec": {
   "display_name": "Python 3",
   "language": "python",
   "name": "python3"
  },
  "language_info": {
   "codemirror_mode": {
    "name": "ipython",
    "version": 3
   },
   "file_extension": ".py",
   "mimetype": "text/x-python",
   "name": "python",
   "nbconvert_exporter": "python",
   "pygments_lexer": "ipython3",
   "version": "3.7.6"
  }
 },
 "nbformat": 4,
 "nbformat_minor": 4
}
