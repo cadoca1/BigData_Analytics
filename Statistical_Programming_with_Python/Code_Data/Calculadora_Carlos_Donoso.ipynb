{
  "nbformat": 4,
  "nbformat_minor": 0,
  "metadata": {
    "colab": {
      "name": "Calculadora_Carlos_Donoso.ipynb",
      "provenance": []
    },
    "kernelspec": {
      "name": "python3",
      "display_name": "Python 3"
    }
  },
  "cells": [
    {
      "cell_type": "code",
      "metadata": {
        "colab": {
          "base_uri": "https://localhost:8080/"
        },
        "id": "lgD-8sgmzRr7",
        "outputId": "2bbd843b-f81e-4716-f8ff-64e9581f07db"
      },
      "source": [
        "def Menu():\n",
        "    \"\"\"Función que muestra el Menú\"\"\"\n",
        "    print (\"\"\"************\n",
        "Mi Calculadora\n",
        "************\\n\n",
        "Menú:\n",
        "1) Suma\n",
        "2) Resta\n",
        "3) Multiplicación\n",
        "4) División\n",
        "5) Potencia\n",
        "6) Salir de Mi Calculadora\\n \"\"\")\n",
        "\n",
        "def Calculadora():\n",
        "    print(\"Realiza aquí tus operaciones aritméticas\\n\")\n",
        "    Menu()\n",
        "    opc = int(input(\"Selecciona opción:\\n\"))\n",
        "    while (opc > 0 and opc < 6):\n",
        "        if (opc==1):\n",
        "            x = float(input(\"Introduce el primer número de la suma:\\n\"))\n",
        "            y = float(input(\"Introduzca el segundo número de la suma:\\n\"))\n",
        "            print (\"El resultado es:\", x+y)\n",
        "            opc = int(input(\"Selecciona opción:\\n\"))\n",
        "        elif(opc==2):\n",
        "            x = float(input(\"Introduce el primer número de la resta:\\n\"))\n",
        "            y = float(input(\"Introduce el segundo número de la resta:\\n\"))\n",
        "            print (\"El resultado es:\",x-y)\n",
        "            opc = int(input(\"Selecciona opción:\\n\"))\n",
        "        elif(opc==3):\n",
        "            x = float(input(\"Introduce el primer número de la multiplicación:\\n\"))\n",
        "            y = float(input(\"Introduce el segundo número de la multiplicación:\\n\"))\n",
        "            print (\"El resultado es:\",x*y)\n",
        "            opc = int(input(\"Selecciona opción:\\n\"))\n",
        "        elif(opc==4):\n",
        "            x = float(input(\"Introduce el dividendo de la división:\\n\"))\n",
        "            y = float(input(\"Introduce el divisor de la división:\\n\"))\n",
        "            try:\n",
        "              print (\"El resultado es:\", x/y)\n",
        "              opc = int(input(\"Selecciona opción:\\n\"))\n",
        "            except ZeroDivisionError:\n",
        "              print (\"No se permite la división entre 0\")\n",
        "              opc = int(input(\"Selecciona opción:\\n\"))\n",
        "        elif(opc==5):\n",
        "            x = float(input(\"Introduce la base de la potencia:\\n\"))\n",
        "            y = float(input(\"Introduce el exponente de la potencia:\\n\"))\n",
        "            print (\"El resultado es:\",x**y)\n",
        "            opc = int(input(\"Selecciona opción:\\n\"))\n",
        "    if (opc == 6):\n",
        "      print('Gracias por usar Mi Calculadora')\n",
        "    elif (opc > 6):\n",
        "      print('Syntax Error')\n",
        "\n",
        "Calculadora()"
      ],
      "execution_count": 11,
      "outputs": [
        {
          "output_type": "stream",
          "text": [
            "Realiza aquí tus operaciones aritméticas\n",
            "\n",
            "************\n",
            "Mi Calculadora\n",
            "************\n",
            "\n",
            "Menú:\n",
            "1) Suma\n",
            "2) Resta\n",
            "3) Multiplicación\n",
            "4) División\n",
            "5) Potencia\n",
            "6) Salir de Mi Calculadora\n",
            " \n",
            "Selecciona opción:\n",
            "5\n",
            "Introduce la base de la potencia:\n",
            "3.1\n",
            "Introduce el exponente de la potencia:\n",
            "3\n",
            "El resultado es: 29.791000000000004\n",
            "Selecciona opción:\n",
            "2\n",
            "Introduce el primer número de la resta:\n",
            "6\n",
            "Introduce el segundo número de la resta:\n",
            "2\n",
            "El resultado es: 4.0\n",
            "Selecciona opción:\n",
            "6\n",
            "Gracias por usar Mi Calculadora\n"
          ],
          "name": "stdout"
        }
      ]
    }
  ]
}